{
 "cells": [
  {
   "cell_type": "markdown",
   "id": "aa0b3441-0707-49ac-aac5-8f65ba9e6cec",
   "metadata": {},
   "source": [
    "<hr>\n",
    "\n",
    "<center>\n",
    "    Class: Machine Learning in Computational Biology <br>\n",
    "    Program: Data Science and Information Technologies <br>\n",
    "    Name: Aris <br>\n",
    "    Las name: Podotas <br>\n",
    "    ID: 7115152400040 <br>\n",
    "    Assignment: 1 <br>\n",
    "</center>\n",
    "\n",
    "<hr>"
   ]
  },
  {
   "cell_type": "code",
   "execution_count": 30,
   "id": "d50d5c11-162a-4f9c-85c1-b492cfc18184",
   "metadata": {},
   "outputs": [],
   "source": [
    "import sys\n",
    "sys.path.append('../')\n",
    "from src import functions as utils\n"
   ]
  }
 ],
 "metadata": {
  "kernelspec": {
   "display_name": "Python 3 (ipykernel)",
   "language": "python",
   "name": "python3"
  },
  "language_info": {
   "codemirror_mode": {
    "name": "ipython",
    "version": 3
   },
   "file_extension": ".py",
   "mimetype": "text/x-python",
   "name": "python",
   "nbconvert_exporter": "python",
   "pygments_lexer": "ipython3",
   "version": "3.12.4"
  }
 },
 "nbformat": 4,
 "nbformat_minor": 5
}
